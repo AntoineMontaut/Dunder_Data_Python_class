{
 "cells": [
  {
   "cell_type": "code",
   "execution_count": 1,
   "metadata": {
    "collapsed": false
   },
   "outputs": [],
   "source": [
    "import pandas as pd\n",
    "import numpy as np\n",
    "\n",
    "def print_ops(string):\n",
    "    '''Splits the string on spaces to get operations\n",
    "       Tries to run each operation and print the operation and its result\n",
    "       If error: print operation and the type of error encoutered'''\n",
    "    for op in string.split():\n",
    "        try:\n",
    "            print(op + ':', eval(op), sep='\\n', end='\\n\\n')\n",
    "        except Exception as e:\n",
    "            print(op + ': ' + str(type(e)), end='\\n\\n')"
   ]
  },
  {
   "cell_type": "markdown",
   "metadata": {},
   "source": [
    "### Problem 1\n",
    "<span style=\"color:green\">What type of object is returned from the values of the index of a Series?</span>"
   ]
  },
  {
   "cell_type": "code",
   "execution_count": 2,
   "metadata": {
    "collapsed": false
   },
   "outputs": [
    {
     "name": "stdout",
     "output_type": "stream",
     "text": [
      "0    0\n",
      "1    1\n",
      "2    2\n",
      "3    3\n",
      "4    4\n",
      "5    5\n",
      "6    6\n",
      "7    7\n",
      "8    8\n",
      "9    9\n",
      "dtype: int32\n",
      "type(s.index):  <class 'pandas.indexes.range.RangeIndex'>\n"
     ]
    }
   ],
   "source": [
    "s = pd.Series(range(10))\n",
    "print(s)\n",
    "print('type(s.index): ', type(s.index))"
   ]
  },
  {
   "cell_type": "markdown",
   "metadata": {},
   "source": [
    "### Problem 2\n",
    "<span style=\"color:green\">Create a 3 element pandas Series using the Series constructor with characters as the index and numbers as the values. Output the Series.</span>"
   ]
  },
  {
   "cell_type": "code",
   "execution_count": 3,
   "metadata": {
    "collapsed": false
   },
   "outputs": [
    {
     "name": "stdout",
     "output_type": "stream",
     "text": [
      "a    0\n",
      "b    1\n",
      "c    2\n",
      "dtype: int32\n"
     ]
    }
   ],
   "source": [
    "s = pd.Series(range(3), index='a, b, c'.split(', '))\n",
    "print(s)"
   ]
  },
  {
   "cell_type": "markdown",
   "metadata": {},
   "source": [
    "### Problem 3\n",
    "<span style=\"color:green\">Another way to create a series is to pass a dictionary to the pandas series constructor. The keys of the dictionary become the Series index and the dictionary values become the Series values. Create a dictionary with at least 3 elements and use it to create a series. Output the Series.</span>"
   ]
  },
  {
   "cell_type": "code",
   "execution_count": 4,
   "metadata": {
    "collapsed": false
   },
   "outputs": [
    {
     "name": "stdout",
     "output_type": "stream",
     "text": [
      "a    1\n",
      "b    2\n",
      "c    3\n",
      "dtype: int64\n"
     ]
    }
   ],
   "source": [
    "d = dict(a=1, b=2, c=3)\n",
    "s = pd.Series(d)\n",
    "print(s)"
   ]
  },
  {
   "cell_type": "markdown",
   "metadata": {},
   "source": [
    "### Using NumPy to create a Series with random values"
   ]
  },
  {
   "cell_type": "code",
   "execution_count": 5,
   "metadata": {
    "collapsed": true
   },
   "outputs": [],
   "source": [
    "idx = range(10, 110) # generate values for the index\n",
    "values = np.random.rand(100) # generate 100 random numbers between 0 and 1\n",
    "\n",
    "s = pd.Series(data=values, index=idx)"
   ]
  },
  {
   "cell_type": "markdown",
   "metadata": {},
   "source": [
    "### Problem 4\n",
    "<span style=\"color:green\">Output to the screen the first 10 numbers in the Series above. Remember to only use loc and iloc when accessing Series elements.</span>"
   ]
  },
  {
   "cell_type": "code",
   "execution_count": 6,
   "metadata": {
    "collapsed": false
   },
   "outputs": [
    {
     "name": "stdout",
     "output_type": "stream",
     "text": [
      "10    0.454944\n",
      "11    0.874450\n",
      "12    0.672549\n",
      "13    0.061947\n",
      "14    0.062035\n",
      "15    0.667042\n",
      "16    0.018220\n",
      "17    0.818247\n",
      "18    0.055435\n",
      "19    0.524479\n",
      "dtype: float64\n",
      "\n",
      "10    0.454944\n",
      "11    0.874450\n",
      "12    0.672549\n",
      "13    0.061947\n",
      "14    0.062035\n",
      "15    0.667042\n",
      "16    0.018220\n",
      "17    0.818247\n",
      "18    0.055435\n",
      "19    0.524479\n",
      "dtype: float64\n"
     ]
    }
   ],
   "source": [
    "print(s.head(10), end='\\n\\n')\n",
    "print(s.iloc[:10])"
   ]
  },
  {
   "cell_type": "markdown",
   "metadata": {},
   "source": [
    "### Problem 5\n",
    "<span style=\"color:green\">Output elements with labels 40, 50 and 99 from the Series above.</span>"
   ]
  },
  {
   "cell_type": "code",
   "execution_count": 7,
   "metadata": {
    "collapsed": false
   },
   "outputs": [
    {
     "name": "stdout",
     "output_type": "stream",
     "text": [
      "40    0.744936\n",
      "50    0.264674\n",
      "99    0.831651\n",
      "dtype: float64\n",
      "\n"
     ]
    }
   ],
   "source": [
    "print(s.loc[[40, 50, 99]], end='\\n\\n')"
   ]
  },
  {
   "cell_type": "markdown",
   "metadata": {},
   "source": [
    "### Problem 6\n",
    "<span style=\"color:green\">Output the last ten elements of the Series.</span>"
   ]
  },
  {
   "cell_type": "code",
   "execution_count": 8,
   "metadata": {
    "collapsed": false
   },
   "outputs": [
    {
     "name": "stdout",
     "output_type": "stream",
     "text": [
      "100    0.897921\n",
      "101    0.804515\n",
      "102    0.903254\n",
      "103    0.489715\n",
      "104    0.691382\n",
      "105    0.555743\n",
      "106    0.830310\n",
      "107    0.657291\n",
      "108    0.035045\n",
      "109    0.894307\n",
      "dtype: float64\n"
     ]
    }
   ],
   "source": [
    "print(s.iloc[-10:])"
   ]
  },
  {
   "cell_type": "markdown",
   "metadata": {},
   "source": [
    "### Problem 7\n",
    "<span style=\"color:green\">Output every 15th element using slice notation.</span>"
   ]
  },
  {
   "cell_type": "code",
   "execution_count": 9,
   "metadata": {
    "collapsed": false
   },
   "outputs": [
    {
     "name": "stdout",
     "output_type": "stream",
     "text": [
      "10     0.454944\n",
      "25     0.932237\n",
      "40     0.744936\n",
      "55     0.388290\n",
      "70     0.387512\n",
      "85     0.777440\n",
      "100    0.897921\n",
      "dtype: float64\n"
     ]
    }
   ],
   "source": [
    "print(s.iloc[::15])"
   ]
  },
  {
   "cell_type": "markdown",
   "metadata": {},
   "source": [
    "### Problem 8\n",
    "<span style=\"color:green\">Write a function that accepts a single argument. The argument will be a Series. Have the function return the difference between the largest and smallest Series value. Run your function with the Series above.</span>"
   ]
  },
  {
   "cell_type": "code",
   "execution_count": 10,
   "metadata": {
    "collapsed": false
   },
   "outputs": [
    {
     "name": "stdout",
     "output_type": "stream",
     "text": [
      "0.961034928489\n"
     ]
    }
   ],
   "source": [
    "def max_min_diff(series):\n",
    "    '''Return the difference between the largest and smallest Series value'''\n",
    "    return series.max() - series.min()\n",
    "\n",
    "print(max_min_diff(s))"
   ]
  },
  {
   "cell_type": "markdown",
   "metadata": {},
   "source": [
    "### Problem 9\n",
    "<span style=\"color:green\">If two Series are added with no indices in common, what will be the outcome? Check your answer by coding this situation.</span>"
   ]
  },
  {
   "cell_type": "markdown",
   "metadata": {},
   "source": [
    "It will result in a series with the indexes of both series and all NaN for values"
   ]
  },
  {
   "cell_type": "code",
   "execution_count": 11,
   "metadata": {
    "collapsed": false
   },
   "outputs": [
    {
     "name": "stdout",
     "output_type": "stream",
     "text": [
      "s1:\n",
      "0    0\n",
      "1    1\n",
      "2    2\n",
      "3    3\n",
      "4    4\n",
      "dtype: int32\n",
      "\n",
      "s2:\n",
      "5    0\n",
      "6    1\n",
      "7    2\n",
      "8    3\n",
      "9    4\n",
      "dtype: int32\n",
      "\n",
      "s1+s2:\n",
      "0   NaN\n",
      "1   NaN\n",
      "2   NaN\n",
      "3   NaN\n",
      "4   NaN\n",
      "5   NaN\n",
      "6   NaN\n",
      "7   NaN\n",
      "8   NaN\n",
      "9   NaN\n",
      "dtype: float64\n",
      "\n"
     ]
    }
   ],
   "source": [
    "s1 = pd.Series(range(5), index=range(5))\n",
    "s2 = pd.Series(range(5), index=range(5, 10))\n",
    "print_ops('s1 s2 s1+s2')"
   ]
  },
  {
   "cell_type": "markdown",
   "metadata": {},
   "source": [
    "### Problem 10\n",
    "<span style=\"color:green\">What if the two series from problem 9 were subtracted, multiplied or divided together?</span>"
   ]
  },
  {
   "cell_type": "markdown",
   "metadata": {},
   "source": [
    "Same, indexes from both series and all values NaN"
   ]
  },
  {
   "cell_type": "code",
   "execution_count": 12,
   "metadata": {
    "collapsed": false
   },
   "outputs": [
    {
     "name": "stdout",
     "output_type": "stream",
     "text": [
      "    s1   s2  s1 - s2  s1 * s2  s1 / s2\n",
      "0  0.0  NaN      NaN      NaN      NaN\n",
      "1  1.0  NaN      NaN      NaN      NaN\n",
      "2  2.0  NaN      NaN      NaN      NaN\n",
      "3  3.0  NaN      NaN      NaN      NaN\n",
      "4  4.0  NaN      NaN      NaN      NaN\n",
      "5  NaN  0.0      NaN      NaN      NaN\n",
      "6  NaN  1.0      NaN      NaN      NaN\n",
      "7  NaN  2.0      NaN      NaN      NaN\n",
      "8  NaN  3.0      NaN      NaN      NaN\n",
      "9  NaN  4.0      NaN      NaN      NaN\n"
     ]
    }
   ],
   "source": [
    "# print_ops('s1-s2 s1*s2 s1/s2')\n",
    "df = s1.to_frame(name='s1').join(s2.to_frame(name='s2'), how='outer')\n",
    "df['s1 - s2'] = df['s1'] - df['s2']\n",
    "df['s1 * s2'] = df['s1'] * df['s2']\n",
    "df['s1 / s2'] = df['s1'] / df['s2']\n",
    "print(df)"
   ]
  },
  {
   "cell_type": "markdown",
   "metadata": {},
   "source": [
    "### Problem 11\n",
    "<span style=\"color:green\">Create two Series that have 3 elements each and when added together yield a Series that has four 4 elements that are all not missing.</span>"
   ]
  },
  {
   "cell_type": "code",
   "execution_count": 13,
   "metadata": {
    "collapsed": false
   },
   "outputs": [
    {
     "name": "stdout",
     "output_type": "stream",
     "text": [
      "   s1  s2  s1 + s2\n",
      "a   1  11       12\n",
      "a   2  11       13\n",
      "b   3  12       15\n",
      "b   3  13       16\n"
     ]
    }
   ],
   "source": [
    "s1 = pd.Series(range(1, 4), index=['a', 'a', 'b'])\n",
    "s2 = pd.Series(range(11, 14), index=['a', 'b', 'b'])\n",
    "# print_ops('s1 s2 s1+s2')\n",
    "df = s1.to_frame(name='s1').join(s2.to_frame(name='s2'), how='outer')\n",
    "df['s1 + s2'] = df['s1'] + df['s2']\n",
    "print(df)"
   ]
  }
 ],
 "metadata": {
  "kernelspec": {
   "display_name": "Python [conda env:py35]",
   "language": "python",
   "name": "conda-env-py35-py"
  },
  "language_info": {
   "codemirror_mode": {
    "name": "ipython",
    "version": 3
   },
   "file_extension": ".py",
   "mimetype": "text/x-python",
   "name": "python",
   "nbconvert_exporter": "python",
   "pygments_lexer": "ipython3",
   "version": "3.5.2"
  }
 },
 "nbformat": 4,
 "nbformat_minor": 1
}
