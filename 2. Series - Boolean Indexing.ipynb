{
 "cells": [
  {
   "cell_type": "markdown",
   "metadata": {},
   "source": [
    "# Boolean Indexing"
   ]
  },
  {
   "cell_type": "code",
   "execution_count": 1,
   "metadata": {
    "collapsed": true
   },
   "outputs": [],
   "source": [
    "import numpy as np\n",
    "import pandas as pd\n",
    "\n",
    "def print_ops(string):\n",
    "    '''Splits the string on spaces to get operations\n",
    "       Tries to run each operation and print the operation and its result\n",
    "       If error: print operation and the type of error encoutered\n",
    "       String example: 's s[1::3] s[10] s[-1]' '''\n",
    "    for op in string.split():\n",
    "        try:\n",
    "            print(op + ':', eval(op), sep='\\n', end='\\n\\n')\n",
    "        except Exception as e:\n",
    "            print(op + ': ' + str(type(e)), end='\\n\\n')"
   ]
  },
  {
   "cell_type": "markdown",
   "metadata": {},
   "source": [
    "It is recommended to use .loc or .iloc to access elements of a series but boolean indexing is an exception and True/False can be placed directly inside []"
   ]
  },
  {
   "cell_type": "code",
   "execution_count": 2,
   "metadata": {
    "collapsed": false
   },
   "outputs": [
    {
     "name": "stdout",
     "output_type": "stream",
     "text": [
      "s:\n",
      "a   -1.181167\n",
      "b   -0.141630\n",
      "c   -0.775126\n",
      "d    0.053219\n",
      "e    0.553559\n",
      "f    0.398240\n",
      "g    0.178585\n",
      "dtype: float64\n",
      "\n",
      "keep:\n",
      "[True, False, True, False, False, True, False]\n",
      "\n",
      "s[keep]:\n",
      "a   -1.181167\n",
      "c   -0.775126\n",
      "f    0.398240\n",
      "dtype: float64\n",
      "\n",
      "s>0:\n",
      "a    False\n",
      "b    False\n",
      "c    False\n",
      "d     True\n",
      "e     True\n",
      "f     True\n",
      "g     True\n",
      "dtype: bool\n",
      "\n",
      "s[s>0]:\n",
      "d    0.053219\n",
      "e    0.553559\n",
      "f    0.398240\n",
      "g    0.178585\n",
      "dtype: float64\n",
      "\n",
      "s[criteria_1]:\n",
      "d    0.053219\n",
      "e    0.553559\n",
      "f    0.398240\n",
      "g    0.178585\n",
      "dtype: float64\n",
      "\n",
      "s[s.index>\"c\"]:\n",
      "d    0.053219\n",
      "e    0.553559\n",
      "f    0.398240\n",
      "g    0.178585\n",
      "dtype: float64\n",
      "\n",
      "s[criteria_2]:\n",
      "d    0.053219\n",
      "e    0.553559\n",
      "f    0.398240\n",
      "g    0.178585\n",
      "dtype: float64\n",
      "\n"
     ]
    }
   ],
   "source": [
    "s = pd.Series(np.random.randn(7), index=list('abcdefg'))\n",
    "keep = [True, False, True, False, False, True, False]\n",
    "criteria_1 = s > 0\n",
    "criteria_2 = s.index > 'c'\n",
    "\n",
    "ops = 's keep s[keep] s>0 s[s>0] s[criteria_1] s[s.index>\"c\"] s[criteria_2]'\n",
    "print_ops(ops)"
   ]
  },
  {
   "cell_type": "code",
   "execution_count": 3,
   "metadata": {
    "collapsed": false
   },
   "outputs": [
    {
     "name": "stdout",
     "output_type": "stream",
     "text": [
      "s[s.index.isin(['a','c'])]:\n",
      "a   -1.181167\n",
      "c   -0.775126\n",
      "dtype: float64\n",
      "\n",
      "s.loc[['a','c']]:\n",
      "a   -1.181167\n",
      "c   -0.775126\n",
      "dtype: float64\n",
      "\n"
     ]
    }
   ],
   "source": [
    "ops = '''s[s.index.isin(['a','c'])] s.loc[['a','c']]'''\n",
    "print_ops(ops)"
   ]
  },
  {
   "cell_type": "markdown",
   "metadata": {},
   "source": [
    "### More complex boolean indexing and reverse criteria"
   ]
  },
  {
   "cell_type": "code",
   "execution_count": 4,
   "metadata": {
    "collapsed": false
   },
   "outputs": [
    {
     "name": "stdout",
     "output_type": "stream",
     "text": [
      "criteria.head(5):\n",
      "0     True\n",
      "1    False\n",
      "2    False\n",
      "3    False\n",
      "4    False\n",
      "dtype: bool\n",
      "\n",
      "s[criteria].head(7):\n",
      "0        0\n",
      "26      26\n",
      "52      52\n",
      "78      78\n",
      "100    100\n",
      "104    104\n",
      "130    130\n",
      "dtype: int32\n",
      "\n",
      "s[~criteria].head(7):\n",
      "1    1\n",
      "2    2\n",
      "3    3\n",
      "4    4\n",
      "5    5\n",
      "6    6\n",
      "7    7\n",
      "dtype: int32\n",
      "\n"
     ]
    }
   ],
   "source": [
    "s = pd.Series(np.arange(500))\n",
    "criteria = (s % 2 == 0) & (s % 13 == 0) | (s % 100 == 0)\n",
    "print_ops('criteria.head(5) s[criteria].head(7) s[~criteria].head(7)')"
   ]
  },
  {
   "cell_type": "markdown",
   "metadata": {},
   "source": [
    "# Case Study: Calculating Normality of Stock Market Returns\n",
    "We will examine the returns of different stocks to determine if their daily returns follow a normal distribution. Before we begin you will have to install the third-party library **`pandas-datareader`**. This library does not come pre-packaged with Anaconda so you will have to install it by opening up a terminal and running the following command:\n",
    "\n",
    "### Pandas Datareader\n",
    "[Pandas Datareader](http://pandas-datareader.readthedocs.io/en/latest/) is a nice package that retrieves financial data from different online data sources. In this example we will import the **`data`** module and use the **`DataReader`** function to retrieve Amazon stock price data from google finance from 2010 to present."
   ]
  },
  {
   "cell_type": "code",
   "execution_count": 8,
   "metadata": {
    "collapsed": false
   },
   "outputs": [
    {
     "name": "stdout",
     "output_type": "stream",
     "text": [
      "amzn.head(10):\n",
      "              Open    High     Low   Close    Volume\n",
      "Date                                                \n",
      "2010-01-04  136.25  136.61  133.14  133.90   7600543\n",
      "2010-01-05  133.43  135.48  131.81  134.69   8856456\n",
      "2010-01-06  134.60  134.73  131.65  132.25   7180977\n",
      "2010-01-07  132.01  132.32  128.80  130.00  11030124\n",
      "2010-01-08  130.56  133.68  129.03  133.52   9833829\n",
      "2010-01-11  132.62  132.80  129.21  130.31   8786668\n",
      "2010-01-12  128.99  129.82  126.55  127.35   9098190\n",
      "2010-01-13  127.90  129.71  125.75  129.11  10727856\n",
      "2010-01-14  129.14  130.38  126.40  127.35   9788435\n",
      "2010-01-15  129.18  129.65  127.06  127.14  15382763\n",
      "\n",
      "close.head(10):\n",
      "Date\n",
      "2010-01-04    133.90\n",
      "2010-01-05    134.69\n",
      "2010-01-06    132.25\n",
      "2010-01-07    130.00\n",
      "2010-01-08    133.52\n",
      "2010-01-11    130.31\n",
      "2010-01-12    127.35\n",
      "2010-01-13    129.11\n",
      "2010-01-14    127.35\n",
      "2010-01-15    127.14\n",
      "Name: Close, dtype: float64\n",
      "\n",
      "type(close):\n",
      "<class 'pandas.core.series.Series'>\n",
      "\n"
     ]
    }
   ],
   "source": [
    "from pandas_datareader import data\n",
    "amzn = data.DataReader('amzn', 'google')\n",
    "close = amzn['Close']\n",
    "\n",
    "ops = 'amzn.head(10) close.head(10) type(close)'\n",
    "print_ops(ops)"
   ]
  },
  {
   "cell_type": "markdown",
   "metadata": {},
   "source": [
    "### % difference (actually fraction, not a %...) between current and previous element and handling missing value"
   ]
  },
  {
   "cell_type": "code",
   "execution_count": 15,
   "metadata": {
    "collapsed": false
   },
   "outputs": [
    {
     "name": "stdout",
     "output_type": "stream",
     "text": [
      "close_change.head():\n",
      "Date\n",
      "2010-01-04         NaN\n",
      "2010-01-05    0.005900\n",
      "2010-01-06   -0.018116\n",
      "2010-01-07   -0.017013\n",
      "2010-01-08    0.027077\n",
      "Name: Close, dtype: float64\n",
      "\n",
      "close_change_dropna.head():\n",
      "Date\n",
      "2010-01-05    0.005900\n",
      "2010-01-06   -0.018116\n",
      "2010-01-07   -0.017013\n",
      "2010-01-08    0.027077\n",
      "2010-01-11   -0.024041\n",
      "Name: Close, dtype: float64\n",
      "\n"
     ]
    }
   ],
   "source": [
    "close_change = close.pct_change()\n",
    "close_change_dropna = close_change.dropna()\n",
    "print_ops('close_change.head() close_change_dropna.head()')"
   ]
  },
  {
   "cell_type": "code",
   "execution_count": 20,
   "metadata": {
    "collapsed": false
   },
   "outputs": [
    {
     "name": "stdout",
     "output_type": "stream",
     "text": [
      "0    0\n",
      "1    1\n",
      "2    2\n",
      "3    3\n",
      "4    4\n",
      "5    5\n",
      "6    6\n",
      "7    7\n",
      "8    8\n",
      "9    9\n",
      "dtype: int32\n",
      "\n",
      "0         NaN\n",
      "1         inf\n",
      "2    1.000000\n",
      "3    0.500000\n",
      "4    0.333333\n",
      "5    0.250000\n",
      "6    0.200000\n",
      "7    0.166667\n",
      "8    0.142857\n",
      "9    0.125000\n",
      "dtype: float64\n",
      "\n",
      "1         inf\n",
      "2    1.000000\n",
      "3    0.500000\n",
      "4    0.333333\n",
      "5    0.250000\n",
      "6    0.200000\n",
      "7    0.166667\n",
      "8    0.142857\n",
      "9    0.125000\n",
      "dtype: float64\n"
     ]
    }
   ],
   "source": [
    "s = pd.Series(range(10), index=range(10))\n",
    "s_pct_change = s.pct_change()\n",
    "s_pct_change_drop = s_pct_change.dropna()\n",
    "print(s, s_pct_change, s_pct_change_drop, sep='\\n\\n')"
   ]
  },
  {
   "cell_type": "code",
   "execution_count": null,
   "metadata": {
    "collapsed": true
   },
   "outputs": [],
   "source": []
  }
 ],
 "metadata": {
  "anaconda-cloud": {},
  "kernelspec": {
   "display_name": "Python [conda env:py35]",
   "language": "python",
   "name": "conda-env-py35-py"
  },
  "language_info": {
   "codemirror_mode": {
    "name": "ipython",
    "version": 3
   },
   "file_extension": ".py",
   "mimetype": "text/x-python",
   "name": "python",
   "nbconvert_exporter": "python",
   "pygments_lexer": "ipython3",
   "version": "3.5.2"
  }
 },
 "nbformat": 4,
 "nbformat_minor": 1
}
